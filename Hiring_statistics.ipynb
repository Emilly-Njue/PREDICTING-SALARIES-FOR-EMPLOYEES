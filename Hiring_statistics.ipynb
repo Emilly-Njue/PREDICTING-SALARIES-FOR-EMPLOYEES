{
 "cells": [
  {
   "cell_type": "markdown",
   "metadata": {},
   "source": [
    "## **PREDICTING SALARIES FOR EMPLOYEES**\n",
    "\n",
    "In this exercise, I am analysing a hiring.csv dataset. This file contains hiring statics for a firm such as experience of candidate, his written test score and personal interview score. Based on these 3 factors, HR will decide the salary. Given this data, you need to build a machine learning model for HR department that can help them decide salaries for future candidates. Using this predict salaries for following candidates,\n",
    "\n",
    "`2 yr experience, 9 test score, 6 interview score`\n",
    "\n",
    "`12 yr experience, 10 test score, 10 interview score`"
   ]
  }
 ],
 "metadata": {
  "language_info": {
   "name": "python"
  },
  "orig_nbformat": 4
 },
 "nbformat": 4,
 "nbformat_minor": 2
}
